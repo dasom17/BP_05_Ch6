{
  "nbformat": 4,
  "nbformat_minor": 0,
  "metadata": {
    "colab": {
      "provenance": [],
      "authorship_tag": "ABX9TyPner+hfhZ9XzUQ+qtZRKlp",
      "include_colab_link": true
    },
    "kernelspec": {
      "name": "python3",
      "display_name": "Python 3"
    },
    "language_info": {
      "name": "python"
    }
  },
  "cells": [
    {
      "cell_type": "markdown",
      "metadata": {
        "id": "view-in-github",
        "colab_type": "text"
      },
      "source": [
        "<a href=\"https://colab.research.google.com/github/dasom17/BP_05_Ch6/blob/main/Untitled5.ipynb\" target=\"_parent\"><img src=\"https://colab.research.google.com/assets/colab-badge.svg\" alt=\"Open In Colab\"/></a>"
      ]
    },
    {
      "cell_type": "markdown",
      "source": [
        "1. 2부터 100 사이의 모든 짝수를 출력하는 반복 루프를 작성한다.\n",
        "힌트) x%2한 결과가 0이면 x는 짝수이다"
      ],
      "metadata": {
        "id": "bHtmb8vcdr4r"
      }
    },
    {
      "cell_type": "code",
      "execution_count": null,
      "metadata": {
        "colab": {
          "base_uri": "https://localhost:8080/"
        },
        "id": "BzvG8oOSUQr3",
        "outputId": "35927936-efed-42be-ed7b-fbdbe34be181"
      },
      "outputs": [
        {
          "output_type": "stream",
          "name": "stdout",
          "text": [
            "2 4 6 8 10 12 14 16 18 20 22 24 26 28 30 32 34 36 38 40 42 44 46 48 50 52 54 56 58 60 62 64 66 68 70 72 74 76 78 80 82 84 86 88 90 92 94 96 98 100 "
          ]
        }
      ],
      "source": [
        "for i in range(2, 101):\n",
        "  if i%2==0 :\n",
        "    print(i,end = \" \")"
      ]
    },
    {
      "cell_type": "markdown",
      "source": [
        "어떤 사람이 복리이자율 7%로 1000만원을 저금했을 경우에 2000만원이 되는데 몇 년이 걸리는지 계산하기 위하여 다음과 코드를 작성하였다. 잘못된 점은 없는지 체크해보자.\n",
        "\n",
        "year = 0\n",
        "balance = 1000\n",
        "\n",
        "while balance >= 2000 :\n",
        "  year = year + 1\n",
        "  interest = balance * 0.07\n",
        "  balance = balance + interest\n",
        "print(year, \"년이 걸립니다.\")\n",
        "\n",
        "힌트) 반복 조건을 유심히 살펴보자."
      ],
      "metadata": {
        "id": "bA_j0RnSd4KF"
      }
    },
    {
      "cell_type": "code",
      "source": [
        "year = 0\n",
        "balance = 1000\n",
        "\n",
        "while balance <= 2000 :\n",
        "#>=가 아닌 <=을 써야 한다.\n",
        "  year = year + 1\n",
        "  interest = balance * 0.07\n",
        "  balance = balance + interest\n",
        "print(year, \"년이 걸립니다.\")"
      ],
      "metadata": {
        "colab": {
          "base_uri": "https://localhost:8080/"
        },
        "id": "MQUtVB6UUcmr",
        "outputId": "aa109ed0-3423-43c7-cce7-4a33676ab235"
      },
      "execution_count": 1,
      "outputs": [
        {
          "output_type": "stream",
          "name": "stdout",
          "text": [
            "11 년이 걸립니다.\n"
          ]
        }
      ]
    },
    {
      "cell_type": "markdown",
      "source": [
        "3. 다음 코드의 출력을 예상해보자. 각 단계에서 변수의 값을 예상해보시오.\n",
        "\n",
        "n = 1234\n",
        "sum = 0\n",
        "while n > 0 :\n",
        "  digit = n % 10\n",
        "  sum = sum + digit\n",
        "  n = n // 10\n",
        "print(sum)\n",
        "\n",
        "힌트) %는 나머지를 계산하는 연산자이다. //은 나눗셈에서 몫을 계산한다."
      ],
      "metadata": {
        "id": "LLa10iTZeaVH"
      }
    },
    {
      "cell_type": "code",
      "source": [
        "n = 1234\n",
        "sum = 0\n",
        "while n > 0 :\n",
        "  digit = n % 10\n",
        "  sum = sum + digit\n",
        "  n = n // 10\n",
        "print(sum)\n",
        "\n",
        "#각 단계에서 digit는 자리수가 된다. sum에는 자리수의 합이 저장된다.\n",
        "#digit sum\n",
        "#4 4\n",
        "#3 7\n",
        "#2 9\n",
        "#1 10"
      ],
      "metadata": {
        "colab": {
          "base_uri": "https://localhost:8080/"
        },
        "id": "CidBmfW0UwmS",
        "outputId": "441d77e6-9e8b-45fb-9bd7-d0fd11428164"
      },
      "execution_count": null,
      "outputs": [
        {
          "output_type": "stream",
          "name": "stdout",
          "text": [
            "10\n"
          ]
        }
      ]
    },
    {
      "cell_type": "markdown",
      "source": [
        "4. 사용자에게 곱셈 퀴즈를 내고 답은 사용자로부터 받는 프로그램에서 사용자가 올바른 답을 입력할 때까지 반복하도록 수정하여 보자.\n",
        "어떤 조건이 만족될 때까지 반복하는 것은 while 루프이다."
      ],
      "metadata": {
        "id": "JTm5H7l1gE24"
      }
    },
    {
      "cell_type": "code",
      "source": [
        "ans = 0\n",
        "while ans != 3*9:\n",
        "  ans = int(input(\"3*9는\"))\n",
        "print(\"맞았습니다.\")"
      ],
      "metadata": {
        "colab": {
          "base_uri": "https://localhost:8080/"
        },
        "id": "MUs6vpvjVHtR",
        "outputId": "3e9d6964-082e-4792-ef8b-2f5c811d99c6"
      },
      "execution_count": null,
      "outputs": [
        {
          "output_type": "stream",
          "name": "stdout",
          "text": [
            "3*9는3\n",
            "3*9는3\n",
            "3*9는27\n",
            "맞았습니다.\n"
          ]
        }
      ]
    },
    {
      "cell_type": "markdown",
      "source": [
        "5. 사용자가 입력한 정수의 합을 계산하는 프로그램을 작성하자. 사용자가 0을 입력하기 전까지 정수를 계속하여 읽도록 한다.\n",
        "\n",
        "힌트) 무한 루프를 작성하고 사용자가 입력한 값이 0이면 break 문장을 실행하여 반복 루프를 빠져나간다. 무한 루프는 while True:로 만든다."
      ],
      "metadata": {
        "id": "LZN5J46Zgusm"
      }
    },
    {
      "cell_type": "code",
      "source": [
        "sum = 0\n",
        "while True:\n",
        "  x = int(input(\"정수를 입력하시오: \"))\n",
        "  if x == 0:\n",
        "    break;\n",
        "  sum = sum + x\n",
        "\n",
        "print(\"합은\", sum, \"입니다.\")"
      ],
      "metadata": {
        "colab": {
          "base_uri": "https://localhost:8080/"
        },
        "id": "jLNeAipHVXbA",
        "outputId": "a0ef7b6e-8de6-49bc-d339-91250283c640"
      },
      "execution_count": null,
      "outputs": [
        {
          "output_type": "stream",
          "name": "stdout",
          "text": [
            "정수를 입력하시오: 1\n",
            "정수를 입력하시오: 2\n",
            "정수를 입력하시오: 3\n",
            "정수를 입력하시오: 0\n",
            "합은 6 입니다.\n"
          ]
        }
      ]
    },
    {
      "cell_type": "markdown",
      "source": [
        "6. 난수 생성 함수를 사용하여서 2개의 주사위를 던졌을 때 나오는 수를 다음과 같이 출력하여 보자."
      ],
      "metadata": {
        "id": "xsafsvxLg1sI"
      }
    },
    {
      "cell_type": "code",
      "source": [
        "from random import randint\n",
        "\n",
        "for i in range(3) :\n",
        "  d1 = randint(1,6)\n",
        "  d2 = randint(1,6)\n",
        "print(\"첫번째 주사위=\", d1, \"두번째 주사위=\", d2)\n",
        "\n",
        "1부터 6 사이의 난수를 발생하려면 r = random.randint(1, 6) 문장을 사용한다. 프로그램의 첫 부분에 import random 문장도 추가해야 한다."
      ],
      "metadata": {
        "colab": {
          "base_uri": "https://localhost:8080/"
        },
        "id": "0bcpr38RVp0q",
        "outputId": "37d602e9-34dd-4313-aa9f-f7cd1685eddc"
      },
      "execution_count": null,
      "outputs": [
        {
          "output_type": "stream",
          "name": "stdout",
          "text": [
            "첫번째 주사위= 4 두번째 주사위= 6\n"
          ]
        }
      ]
    },
    {
      "cell_type": "markdown",
      "source": [
        "7. 터틀 그래픽과 반복을 사용하여 눈 모양을 그려보자."
      ],
      "metadata": {
        "id": "nlKbJulKhC23"
      }
    },
    {
      "cell_type": "code",
      "source": [
        "import turtle\n",
        "t = turtle.Turtle()\n",
        "t.shape(\"turtle\")\n",
        "t.lt(90)\n",
        "\n",
        "for i in range(1,7):\n",
        "  t.fd(100)\n",
        "  t.fd(-30)\n",
        "  t.lt(60)\n",
        "  t.fd(30)\n",
        "  t.fd(-30)\n",
        "\n",
        "  t.rt(120)\n",
        "  t.fd(30)\n",
        "  t.fd(-30)\n",
        "\n",
        "  t.lt(60)\n",
        "  t.fd(-70)\n",
        "  t.lt(60)"
      ],
      "metadata": {
        "id": "taxFhklmV_SU"
      },
      "execution_count": null,
      "outputs": []
    },
    {
      "cell_type": "markdown",
      "source": [
        "8. 우리는 이번 장에서 터틀 그래픽으로 별을 그려보았다. 이 고트들 응용하여서 다음과 같이 10개의 별을 그리는 프로그램을 작성하라. 별들을 시작 각도가 약간씩 다르다.\n",
        "힌트) 별을 그리는 코드를 반복한다. 하나의 별을 그리는 반복이 끝나면 left(10)을 실행한다."
      ],
      "metadata": {
        "id": "m5_yrQUpojRD"
      }
    },
    {
      "cell_type": "code",
      "source": [
        "import turtle\n",
        "\n",
        "myPen = turtle.Turtle()\n",
        "myPen.speed(0)\n",
        "myPen.color(\"#FF0000\")\n",
        "\n",
        "for j in range (1,10):\n",
        "  for i in range (1,6):\n",
        "    myPen.lt(144)\n",
        "    myPen.fd(200)\n",
        "  myPen.lt(10)"
      ],
      "metadata": {
        "id": "9-POZbt1XHGi"
      },
      "execution_count": null,
      "outputs": []
    },
    {
      "cell_type": "markdown",
      "source": [
        "9. 반복과 난수를 함께 사용하면 화면에 랜덤한 원을 그릴 수 있다. 화면에 10개의 랜덤한 원을 그리는 프로그램을 작성하라. 원의 중심과 반지름과 모두 난수이어야 한다.\n",
        "\n",
        "힌트) 1부터 100 사이의 난수를 발생하려면 r = random.randint(1, 100) 문장을 사용한다. 프로그램의 첫 부분에 import random 문장도 추가해야 한다. 원의 중심, 원의 반지름을 모두 난수로 설정한다."
      ],
      "metadata": {
        "id": "f-L1i5Bgozft"
      }
    },
    {
      "cell_type": "code",
      "source": [
        "import turtle\n",
        "import random\n",
        "\n",
        "t = turtle.Turtle()\n",
        "t.shape(\"turtle\")\n",
        "\n",
        "for j in range (1,10):\n",
        "  t.up()\n",
        "  x = random.randint(-200, 200)\n",
        "  y = random.randint(-200, 200)\n",
        "  r = random.randint(10, 200)\n",
        "  t.goto(x,y)\n",
        "  t.down()\n",
        "  t.circle(r)"
      ],
      "metadata": {
        "id": "eY0XlztWYHYW"
      },
      "execution_count": null,
      "outputs": []
    },
    {
      "cell_type": "markdown",
      "source": [
        "10. 다음과 같이 거북이를 왕복 달리기시키는 프로그램을 작성해보자.\n",
        "\n",
        "힌트) 거북이가 현재 바라보고 있는 방향을 잘 설정하여야 한다."
      ],
      "metadata": {
        "id": "UiseDhkwrTV6"
      }
    },
    {
      "cell_type": "code",
      "source": [
        "import turtle\n",
        "\n",
        "t = turtle.Turtle()\n",
        "t.shape(\"turtle\")\n",
        "\n",
        "for i in range(5):\n",
        "  t.fd(200);\n",
        "  t.rt(90)\n",
        "  t.fd(20);\n",
        "  t.rt(90)\n",
        "  t.fd(200);\n",
        "  t.lt(90)\n",
        "  t.fd(20);\n",
        "  t.lt(90)\n",
        "  \n"
      ],
      "metadata": {
        "id": "pkZYb0h3Y6nV"
      },
      "execution_count": null,
      "outputs": []
    },
    {
      "cell_type": "markdown",
      "source": [
        "11. 다음의 터틀 그래픽 프로그램을 분석해보자. 학습하지 않은 함수가 있다면 인터넷에서 조사하여 보자.\n",
        "\n",
        "힌트) color(c1,c2) 함수는 도형의 선색상과 채우기색상을 c1,c2로 설정한다. begin_fill()를 호출하면 속이 채워진 도형이 그려진다. pos() 함수는 거북이의 좌표를 반환한다. abs()는 절대값을 계산한다. break는 반복 루프를 빠져나오는 명령어이다."
      ],
      "metadata": {
        "id": "9vAXHDJ7rfxn"
      }
    },
    {
      "cell_type": "code",
      "source": [
        "import turtle\n",
        "\n",
        "t = turtle.Turtle()\n",
        "t.shape(\"turtle\")\n",
        "t.color('red', 'yellow')\n",
        "#도형의 선색상과 채우기색상\n",
        "t.begin_fill()\n",
        "#속이 채워진 도형이 그려짐\n",
        "while True:\n",
        "  t.fd(200)\n",
        "  t.lt(170)\n",
        "  if abs(t.pos()) < 1:\n",
        "#pos() 거북이의 좌표를 반환, abs() 절댓값 계산\n",
        "    break\n",
        "#반복 루프를 빠져나오는 명령어\n",
        "t.end_fill()"
      ],
      "metadata": {
        "id": "19ClMSu3Z-cz"
      },
      "execution_count": null,
      "outputs": []
    },
    {
      "cell_type": "markdown",
      "source": [
        "12. 터틀 그래픽과 반복을 사용하여 싸인(sine) 그래프를 그려보자.거북이를 싸인값에 따라서 움직이면 된다."
      ],
      "metadata": {
        "id": "bYlaIGbkr9si"
      }
    },
    {
      "cell_type": "code",
      "source": [
        "import turtle\n",
        "import math\n",
        "\n",
        "t=turtle.Turtle()\n",
        "t.shape(\"turtle\")\n",
        "t.color('red', 'yellow')\n",
        "\n",
        "for x in range(0, 360):\n",
        "t.goto(x,200*math.sin(x*3.14/100))"
      ],
      "metadata": {
        "colab": {
          "base_uri": "https://localhost:8080/",
          "height": 136
        },
        "id": "qafACAYGa9az",
        "outputId": "2af29476-13b0-4a4b-a865-daa8ab5a20bf"
      },
      "execution_count": null,
      "outputs": [
        {
          "output_type": "error",
          "ename": "IndentationError",
          "evalue": "ignored",
          "traceback": [
            "\u001b[0;36m  File \u001b[0;32m\"<ipython-input-12-1f822c8c0720>\"\u001b[0;36m, line \u001b[0;32m9\u001b[0m\n\u001b[0;31m    t.goto(x,200*math.sin(x*3.14/100))\u001b[0m\n\u001b[0m    ^\u001b[0m\n\u001b[0;31mIndentationError\u001b[0m\u001b[0;31m:\u001b[0m expected an indented block\n"
          ]
        }
      ]
    }
  ]
}